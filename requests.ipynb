

import requests 
url ='https://dadosabertos.camara.leg.br/api/v2/blocos'
request= requests.get(url)
print(request)
print(request.json())



import requests
url ='https://dadosabertos.camara.leg.br/api/v2/blocos/584'

request= requests.get(url)
print(request)
print(request.json())

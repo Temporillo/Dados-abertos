## GET Blocos

import requests 
url ='https://dadosabertos.camara.leg.br/api/v2/blocos'
request= requests.get(url)
print(request)
print(request.json())



## GET Blocos/{id}

import requests
url ='https://dadosabertos.camara.leg.br/api/v2/blocos/584'
#Exemplo para o ID "584"
request= requests.get(url)
print(request)
print(request.json())

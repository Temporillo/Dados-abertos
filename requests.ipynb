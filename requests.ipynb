

import requests 
url ='https://dadosabertos.camara.leg.br/api/v2/blocos'
request= requests.get(url)
print(request)
print(request.json())



import requests
url1 ='https://dadosabertos.camara.leg.br/api/v2/blocos/584'

request1= requests.get(url1)
print(request1)
print(request1.json())
